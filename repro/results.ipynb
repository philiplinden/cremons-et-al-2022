{
 "cells": [
  {
   "cell_type": "code",
   "execution_count": 1,
   "metadata": {},
   "outputs": [],
   "source": [
    "%load_ext autoreload\n",
    "%autoreload 2"
   ]
  },
  {
   "cell_type": "code",
   "execution_count": 2,
   "metadata": {},
   "outputs": [],
   "source": [
    "# external modules\n",
    "import numpy as np\n",
    "from pathlib import Path\n",
    "\n",
    "# local modules\n",
    "import simulator\n",
    "import spectra"
   ]
  },
  {
   "cell_type": "code",
   "execution_count": 3,
   "metadata": {},
   "outputs": [],
   "source": [
    "# define wavelength range and spacing for simulations as\n",
    "# 1-4 micron at 5nm intervals\n",
    "WLS = np.linspace(1, 4, 601)\n",
    "\n",
    "# set the total number of simulations to run\n",
    "num_spectra = 100\n",
    "\n",
    "# Total water measured from step-heating experiments\n",
    "water_ppm = [1522, 762, 176, 22]"
   ]
  },
  {
   "cell_type": "code",
   "execution_count": 4,
   "metadata": {},
   "outputs": [],
   "source": [
    "# Low wavelength portion of MORB spectrum (<1.5 microns)\n",
    "MORB_D38A_LowLam = spectra.spectrum_from_file(\n",
    "    Path(\"../data/Morb_D38A_Low_wavelength.txt\")\n",
    ")"
   ]
  },
  {
   "cell_type": "code",
   "execution_count": 5,
   "metadata": {},
   "outputs": [],
   "source": [
    "# MORB step-wise heating spectra\n",
    "heated_MORB_spectra = []\n",
    "interpolated_spectra = []\n",
    "norm_factor = 1\n",
    "for temperature in [650, 700, 750, 800]:\n",
    "    MORB_spectrum = spectra.spectrum_from_file(\n",
    "            Path(f\"../data/{temperature}^oC.csv\"), name=f'{temperature}C')\n",
    "    MORB_spectrum.index = 1e4 / MORB_spectrum.index  # 1/cm to microns\n",
    "    MORB_spectrum = MORB_spectrum / 100  # percent to decimal\n",
    "    MORB_spectrum = MORB_spectrum.sort_index()\n",
    "    if temperature == 650:\n",
    "        # Use the 650C spectrum for the portion of the spectrum below 2.6\n",
    "        # microns to isolate 3 micron features\n",
    "        norm_factor = spectra.get_normalization_factor(MORB_spectrum, 2.6)\n",
    "    MORB_spectrum = MORB_spectrum / norm_factor\n",
    "    MORB_spectrum.squeeze()\n",
    "    heated_MORB_spectra.append(MORB_spectrum)"
   ]
  },
  {
   "cell_type": "code",
   "execution_count": 6,
   "metadata": {},
   "outputs": [
    {
     "ename": "TypeError",
     "evalue": "can only concatenate tuple (not \"float\") to tuple",
     "output_type": "error",
     "traceback": [
      "\u001b[0;31m---------------------------------------------------------------------------\u001b[0m",
      "\u001b[0;31mTypeError\u001b[0m                                 Traceback (most recent call last)",
      "\u001b[1;32m/home/phil/repos/philiplinden/desci/cremons-etal-2022/repro/results.ipynb Cell 6\u001b[0m line \u001b[0;36m1\n\u001b[1;32m      <a href='vscode-notebook-cell:/home/phil/repos/philiplinden/desci/cremons-etal-2022/repro/results.ipynb#W6sZmlsZQ%3D%3D?line=3'>4</a>\u001b[0m interpolated_spectrum \u001b[39m=\u001b[39m simulator\u001b[39m.\u001b[39minterpolate_series(spectrum, WLS)\n\u001b[1;32m      <a href='vscode-notebook-cell:/home/phil/repos/philiplinden/desci/cremons-etal-2022/repro/results.ipynb#W6sZmlsZQ%3D%3D?line=5'>6</a>\u001b[0m \u001b[39m# Use Hapke model to convert from laboratory reflectance to single\u001b[39;00m\n\u001b[1;32m      <a href='vscode-notebook-cell:/home/phil/repos/philiplinden/desci/cremons-etal-2022/repro/results.ipynb#W6sZmlsZQ%3D%3D?line=6'>7</a>\u001b[0m \u001b[39m# scattering albedo using reflectance and scattering asymmetry\u001b[39;00m\n\u001b[1;32m      <a href='vscode-notebook-cell:/home/phil/repos/philiplinden/desci/cremons-etal-2022/repro/results.ipynb#W6sZmlsZQ%3D%3D?line=7'>8</a>\u001b[0m \u001b[39m# factor (p) of 0.81 (see manuscript for details on Hapke model)\u001b[39;00m\n\u001b[0;32m---> <a href='vscode-notebook-cell:/home/phil/repos/philiplinden/desci/cremons-etal-2022/repro/results.ipynb#W6sZmlsZQ%3D%3D?line=9'>10</a>\u001b[0m ssa\u001b[39m.\u001b[39mappend(simulator\u001b[39m.\u001b[39;49mreflectance_to_ssa(\n\u001b[1;32m     <a href='vscode-notebook-cell:/home/phil/repos/philiplinden/desci/cremons-etal-2022/repro/results.ipynb#W6sZmlsZQ%3D%3D?line=10'>11</a>\u001b[0m     reflectance\u001b[39m=\u001b[39;49minterpolated_spectrum, asymmetry_factor\u001b[39m=\u001b[39;49m\u001b[39m0.81\u001b[39;49m))\n",
      "File \u001b[0;32m~/repos/philiplinden/desci/cremons-etal-2022/repro/simulator.py:174\u001b[0m, in \u001b[0;36mreflectance_to_ssa\u001b[0;34m(reflectance, asymmetry_factor, emission_angle, incident_angle, phase_angle, filling_factor)\u001b[0m\n\u001b[1;32m    167\u001b[0m     y \u001b[39m=\u001b[39m partial(\n\u001b[1;32m    168\u001b[0m         bidirectional_reflectance, P\u001b[39m=\u001b[39masymmetry_factor, mu\u001b[39m=\u001b[39mmu, mu0\u001b[39m=\u001b[39mmu0, B\u001b[39m=\u001b[39mB\n\u001b[1;32m    169\u001b[0m     )\n\u001b[1;32m    170\u001b[0m     OLS \u001b[39m=\u001b[39m partial(\n\u001b[1;32m    171\u001b[0m         ordinary_least_squares, y\u001b[39m=\u001b[39my, yx\u001b[39m=\u001b[39mvalue\n\u001b[1;32m    172\u001b[0m     )  \u001b[39m# turn least squares into the form y=f(x)\u001b[39;00m\n\u001b[1;32m    173\u001b[0m     w\u001b[39m.\u001b[39mappend(\n\u001b[0;32m--> 174\u001b[0m         fmin(\n\u001b[1;32m    175\u001b[0m             OLS,\n\u001b[1;32m    176\u001b[0m             w0,\n\u001b[1;32m    177\u001b[0m             args\u001b[39m=\u001b[39;49mindex,\n\u001b[1;32m    178\u001b[0m             disp\u001b[39m=\u001b[39;49m\u001b[39mFalse\u001b[39;49;00m,\n\u001b[1;32m    179\u001b[0m             maxiter\u001b[39m=\u001b[39;49m\u001b[39m10_000\u001b[39;49m,\n\u001b[1;32m    180\u001b[0m             maxfun\u001b[39m=\u001b[39;49m\u001b[39m10_000\u001b[39;49m,\n\u001b[1;32m    181\u001b[0m             ftol\u001b[39m=\u001b[39;49m\u001b[39m1e-7\u001b[39;49m,\n\u001b[1;32m    182\u001b[0m             xtol\u001b[39m=\u001b[39;49m\u001b[39m1e-7\u001b[39;49m,\n\u001b[1;32m    183\u001b[0m         )\n\u001b[1;32m    184\u001b[0m     )\n\u001b[1;32m    185\u001b[0m \u001b[39mreturn\u001b[39;00m w\n",
      "File \u001b[0;32m~/repos/philiplinden/desci/cremons-etal-2022/.venv/lib/python3.11/site-packages/scipy/optimize/_optimize.py:747\u001b[0m, in \u001b[0;36mfmin\u001b[0;34m(func, x0, args, xtol, ftol, maxiter, maxfun, full_output, disp, retall, callback, initial_simplex)\u001b[0m\n\u001b[1;32m    738\u001b[0m opts \u001b[39m=\u001b[39m {\u001b[39m'\u001b[39m\u001b[39mxatol\u001b[39m\u001b[39m'\u001b[39m: xtol,\n\u001b[1;32m    739\u001b[0m         \u001b[39m'\u001b[39m\u001b[39mfatol\u001b[39m\u001b[39m'\u001b[39m: ftol,\n\u001b[1;32m    740\u001b[0m         \u001b[39m'\u001b[39m\u001b[39mmaxiter\u001b[39m\u001b[39m'\u001b[39m: maxiter,\n\u001b[0;32m   (...)\u001b[0m\n\u001b[1;32m    743\u001b[0m         \u001b[39m'\u001b[39m\u001b[39mreturn_all\u001b[39m\u001b[39m'\u001b[39m: retall,\n\u001b[1;32m    744\u001b[0m         \u001b[39m'\u001b[39m\u001b[39minitial_simplex\u001b[39m\u001b[39m'\u001b[39m: initial_simplex}\n\u001b[1;32m    746\u001b[0m callback \u001b[39m=\u001b[39m _wrap_callback(callback)\n\u001b[0;32m--> 747\u001b[0m res \u001b[39m=\u001b[39m _minimize_neldermead(func, x0, args, callback\u001b[39m=\u001b[39;49mcallback, \u001b[39m*\u001b[39;49m\u001b[39m*\u001b[39;49mopts)\n\u001b[1;32m    748\u001b[0m \u001b[39mif\u001b[39;00m full_output:\n\u001b[1;32m    749\u001b[0m     retlist \u001b[39m=\u001b[39m res[\u001b[39m'\u001b[39m\u001b[39mx\u001b[39m\u001b[39m'\u001b[39m], res[\u001b[39m'\u001b[39m\u001b[39mfun\u001b[39m\u001b[39m'\u001b[39m], res[\u001b[39m'\u001b[39m\u001b[39mnit\u001b[39m\u001b[39m'\u001b[39m], res[\u001b[39m'\u001b[39m\u001b[39mnfev\u001b[39m\u001b[39m'\u001b[39m], res[\u001b[39m'\u001b[39m\u001b[39mstatus\u001b[39m\u001b[39m'\u001b[39m]\n",
      "File \u001b[0;32m~/repos/philiplinden/desci/cremons-etal-2022/.venv/lib/python3.11/site-packages/scipy/optimize/_optimize.py:899\u001b[0m, in \u001b[0;36m_minimize_neldermead\u001b[0;34m(func, x0, args, callback, maxiter, maxfev, disp, return_all, initial_simplex, xatol, fatol, adaptive, bounds, **unknown_options)\u001b[0m\n\u001b[1;32m    897\u001b[0m \u001b[39mtry\u001b[39;00m:\n\u001b[1;32m    898\u001b[0m     \u001b[39mfor\u001b[39;00m k \u001b[39min\u001b[39;00m \u001b[39mrange\u001b[39m(N \u001b[39m+\u001b[39m \u001b[39m1\u001b[39m):\n\u001b[0;32m--> 899\u001b[0m         fsim[k] \u001b[39m=\u001b[39m func(sim[k])\n\u001b[1;32m    900\u001b[0m \u001b[39mexcept\u001b[39;00m _MaxFuncCallError:\n\u001b[1;32m    901\u001b[0m     \u001b[39mpass\u001b[39;00m\n",
      "File \u001b[0;32m~/repos/philiplinden/desci/cremons-etal-2022/.venv/lib/python3.11/site-packages/scipy/optimize/_optimize.py:620\u001b[0m, in \u001b[0;36m_wrap_scalar_function_maxfun_validation.<locals>.function_wrapper\u001b[0;34m(x, *wrapper_args)\u001b[0m\n\u001b[1;32m    618\u001b[0m ncalls[\u001b[39m0\u001b[39m] \u001b[39m+\u001b[39m\u001b[39m=\u001b[39m \u001b[39m1\u001b[39m\n\u001b[1;32m    619\u001b[0m \u001b[39m# A copy of x is sent to the user function (gh13740)\u001b[39;00m\n\u001b[0;32m--> 620\u001b[0m fx \u001b[39m=\u001b[39m function(np\u001b[39m.\u001b[39mcopy(x), \u001b[39m*\u001b[39m(wrapper_args \u001b[39m+\u001b[39;49m args))\n\u001b[1;32m    621\u001b[0m \u001b[39m# Ideally, we'd like to a have a true scalar returned from f(x). For\u001b[39;00m\n\u001b[1;32m    622\u001b[0m \u001b[39m# backwards-compatibility, also allow np.array([1.3]),\u001b[39;00m\n\u001b[1;32m    623\u001b[0m \u001b[39m# np.array([[1.3]]) etc.\u001b[39;00m\n\u001b[1;32m    624\u001b[0m \u001b[39mif\u001b[39;00m \u001b[39mnot\u001b[39;00m np\u001b[39m.\u001b[39misscalar(fx):\n",
      "\u001b[0;31mTypeError\u001b[0m: can only concatenate tuple (not \"float\") to tuple"
     ]
    }
   ],
   "source": [
    "ssa = []\n",
    "for spectrum in heated_MORB_spectra:\n",
    "    # interpolate along our sampling grid of interest\n",
    "    interpolated_spectrum = simulator.interpolate_series(spectrum, WLS)\n",
    "\n",
    "    # Use Hapke model to convert from laboratory reflectance to single\n",
    "    # scattering albedo using reflectance and scattering asymmetry\n",
    "    # factor (p) of 0.81 (see manuscript for details on Hapke model)\n",
    "    ssa.append(simulator.reflectance_to_ssa(\n",
    "        reflectance=interpolated_spectrum, asymmetry_factor=0.81))"
   ]
  }
 ],
 "metadata": {
  "kernelspec": {
   "display_name": ".venv",
   "language": "python",
   "name": "python3"
  },
  "language_info": {
   "codemirror_mode": {
    "name": "ipython",
    "version": 3
   },
   "file_extension": ".py",
   "mimetype": "text/x-python",
   "name": "python",
   "nbconvert_exporter": "python",
   "pygments_lexer": "ipython3",
   "version": "3.11.6"
  }
 },
 "nbformat": 4,
 "nbformat_minor": 2
}
